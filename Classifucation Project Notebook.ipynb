{
 "cells": [
  {
   "cell_type": "markdown",
   "id": "62931500-a186-4d86-86ea-a794e0e456ab",
   "metadata": {},
   "source": [
    "#### Explore AI Academy: Classification Project\n"
   ]
  },
  {
   "cell_type": "markdown",
   "id": "1c56028e-c11c-430d-aedd-8555f53f89ab",
   "metadata": {},
   "source": [
    "<div style=\"font-size: 35px\">\n",
    "    <font color='Blue'> <b>Analysing News Articles Dataset</b></font> "
   ]
  },
  {
   "cell_type": "markdown",
   "id": "6e58119b-69e6-4b95-9857-2dc6efc887a1",
   "metadata": {},
   "source": [
    "<a id=\"cont\"></a>\n",
    "\n",
    "## Table of Contents\n",
    "* <b>[1. Project Overview**](#chapter1)\n",
    "    * [1.1 Introduction**](#section_1_1)\n",
    "        * [1.1.1 Problem Statement**](#sub_section_1_1_1)\n",
    "    * [1.2 Objectives**](#section_1_2)\n",
    "* <b>[2. Importing Packages**](#chapter2)\n",
    "* <b>[3. Loading Data**](#chapter3)\n",
    "* <b>[4. Data Cleaning**](#chapter4)\n",
    "* <b>[5. Exploratory Data Analysis (EDA)**](#chapter5)\n",
    "* <b>[6. Feature Engineering**](#chapter6)</b>\n",
    "* [7. Modeling](#chapter7)\n",
    "* [8. Model Performance](#chapter8)\n",
    "* <b>[10. Conclusion**](#chapter10)</b>\n",
    "* [11. References](#chapter11)"
   ]
  },
  {
   "cell_type": "markdown",
   "id": "d3eb57f2-d0f4-4e0d-a252-0c00f4ca0853",
   "metadata": {},
   "source": [
    "> <b> Objective of the Project:</b> Clearly state what the project aims to achieve or what problem it intends to solve. This helps to immediately orient readers to the purpose of your analysis.\n",
    "\n",
    "> <b> Data Source:</b> Mention where the data comes from, including specifics about the dataset such as the period it covers, who collected it, and any important features or variables it includes. This establishes the context and relevance of the data.\n",
    "\n",
    "> <b> Importance of the Study:</b> Explain why this project is important. Discuss its relevance or impact in its field, whether it’s improving a business process, advancing scientific understanding, or influencing policy decisions.\n",
    "\n",
    "> <b> Key Questions or Hypotheses:</b> Outline the main questions you aim to answer or hypotheses you plan to test. This sets clear goals for your analysis and what the audience can expect to learn.\n",
    "\n",
    "> <b> Methodology Overview:</b> Provide a brief overview of the methods and techniques you plan to use in your analysis. This doesn’t need to be detailed here but should give a taste of the analytical approach and tools.\n",
    "\n",
    "> <b> Structure of the Notebook:</b> Describe the layout of the notebook. Explain the sections or parts of the analysis to help readers navigate through the content.\n",
    "\n",
    "> <b> Expected Outcomes:</b> If applicable, mention what kind of results or findings you anticipate. This could be specific insights, predictive model performance, or impact assessment."
   ]
  },
  {
   "cell_type": "markdown",
   "id": "0b5cab88-5f94-46e0-8d92-1513bb4861f9",
   "metadata": {},
   "source": [
    "- #### 1.1.1 Problem Statement <a class=\"anchor\" id=\"sub_section_1_1_1\"></a>"
   ]
  },
  {
   "cell_type": "markdown",
   "id": "ad031c54-8a0c-4618-8e25-a53368ebdb7e",
   "metadata": {},
   "source": [
    "### 1.2 Objectives <a class=\"anchor\" id=\"section_1_2\"></a>"
   ]
  },
  {
   "cell_type": "markdown",
   "id": "a3d57348-7a65-4ba6-9f38-0cc302cd818a",
   "metadata": {},
   "source": [
    "+ To apply exploratory data analysis.\n",
    "+ To implement feature engineering techniques to extract meaningful information.\n",
    "+ To model and assess various supervised machine learning algorithms for the prediction ...."
   ]
  },
  {
   "cell_type": "markdown",
   "id": "eebf1419-48bd-45e9-8f6d-a2b7c0ab8273",
   "metadata": {},
   "source": [
    "## 2. Importing Packages <a class=\"anchor\" id=\"chapter2\"></a>\n",
    "\n",
    "This data set was created to list all shows available on Netflix streaming, and analyze the data to find interesting facts. This data was acquired in July 2022 containing data available in the United States.\n",
    "\n",
    "+ For data manipulation and analysis, `Pandas` and `Numpy`.\n",
    "+ For data visualization, `Matplotlib` and `Seaborn`.\n"
   ]
  },
  {
   "cell_type": "code",
   "execution_count": 9,
   "id": "28b1eef2-75f9-46dc-b5ea-84b81aeed71e",
   "metadata": {},
   "outputs": [
    {
     "data": {
      "text/plain": [
       "<function warnings.filterwarnings(action, message='', category=<class 'Warning'>, module='', lineno=0, append=False)>"
      ]
     },
     "execution_count": 9,
     "metadata": {},
     "output_type": "execute_result"
    }
   ],
   "source": [
    "# Libraries for data loading, manipulation and analysis\n",
    "\n",
    "import numpy as np\n",
    "import pandas as pd\n",
    "import csv\n",
    "import seaborn as sns\n",
    "import matplotlib.pyplot as plt\n",
    "\n",
    "# Displays output inline\n",
    "%matplotlib inline\n",
    "\n",
    "from sklearn.feature_extraction.text import CountVectorizer\n",
    "\n",
    "from sklearn.model_selection import cross_val_score\n",
    "from sklearn.model_selection import train_test_split\n",
    "from sklearn import metrics\n",
    "\n",
    "from sklearn.preprocessing import StandardScaler\n",
    "from sklearn.datasets import make_moons, make_circles, make_classification\n",
    "\n",
    "from sklearn.linear_model import LogisticRegression\n",
    "from sklearn.neighbors import KNeighborsClassifier\n",
    "from sklearn.svm import SVC\n",
    "from sklearn.discriminant_analysis import LinearDiscriminantAnalysis\n",
    "from sklearn.discriminant_analysis import QuadraticDiscriminantAnalysis\n",
    "from sklearn.tree import DecisionTreeClassifier\n",
    "from sklearn.ensemble import RandomForestClassifier, AdaBoostClassifier\n",
    "\n",
    "#NLP\n",
    "import nltk\n",
    "from nltk.corpus import stopwords\n",
    "from nltk.tokenize import word_tokenize, TreebankWordTokenizer\n",
    "\n",
    "from sklearn.feature_extraction.text import CountVectorizer\n",
    "\n",
    "from sklearn.model_selection import cross_validate\n",
    "\n",
    "from sklearn.feature_selection import chi2\n",
    "\n",
    "# set plot style\n",
    "sns.set_theme()\n",
    "\n",
    "# Libraries for Handing Errors\n",
    "import warnings\n",
    "warnings.filterwarnings"
   ]
  },
  {
   "cell_type": "code",
   "execution_count": 5,
   "id": "f882227c",
   "metadata": {},
   "outputs": [],
   "source": [
    "import requests\n",
    "import joblib "
   ]
  },
  {
   "cell_type": "markdown",
   "id": "462b1af8-550d-4a7a-b239-4ceb8ac4e695",
   "metadata": {},
   "source": [
    "## 3. Loading Data <a class=\"anchor\" id=\"chapter3\"></a>"
   ]
  },
  {
   "cell_type": "code",
   "execution_count": 7,
   "id": "2b5e0b9e",
   "metadata": {},
   "outputs": [
    {
     "data": {
      "text/html": [
       "<div>\n",
       "<style scoped>\n",
       "    .dataframe tbody tr th:only-of-type {\n",
       "        vertical-align: middle;\n",
       "    }\n",
       "\n",
       "    .dataframe tbody tr th {\n",
       "        vertical-align: top;\n",
       "    }\n",
       "\n",
       "    .dataframe thead th {\n",
       "        text-align: right;\n",
       "    }\n",
       "</style>\n",
       "<table border=\"1\" class=\"dataframe\">\n",
       "  <thead>\n",
       "    <tr style=\"text-align: right;\">\n",
       "      <th></th>\n",
       "      <th>headlines</th>\n",
       "      <th>description</th>\n",
       "      <th>content</th>\n",
       "      <th>url</th>\n",
       "      <th>category</th>\n",
       "    </tr>\n",
       "  </thead>\n",
       "  <tbody>\n",
       "    <tr>\n",
       "      <th>0</th>\n",
       "      <td>RBI revises definition of politically-exposed ...</td>\n",
       "      <td>The central bank has also asked chairpersons a...</td>\n",
       "      <td>The Reserve Bank of India (RBI) has changed th...</td>\n",
       "      <td>https://indianexpress.com/article/business/ban...</td>\n",
       "      <td>business</td>\n",
       "    </tr>\n",
       "    <tr>\n",
       "      <th>1</th>\n",
       "      <td>NDTV Q2 net profit falls 57.4% to Rs 5.55 cror...</td>\n",
       "      <td>NDTV's consolidated revenue from operations wa...</td>\n",
       "      <td>Broadcaster New Delhi Television Ltd on Monday...</td>\n",
       "      <td>https://indianexpress.com/article/business/com...</td>\n",
       "      <td>business</td>\n",
       "    </tr>\n",
       "    <tr>\n",
       "      <th>2</th>\n",
       "      <td>Akasa Air ‘well capitalised’, can grow much fa...</td>\n",
       "      <td>The initial share sale will be open for public...</td>\n",
       "      <td>Homegrown server maker Netweb Technologies Ind...</td>\n",
       "      <td>https://indianexpress.com/article/business/mar...</td>\n",
       "      <td>business</td>\n",
       "    </tr>\n",
       "    <tr>\n",
       "      <th>3</th>\n",
       "      <td>India’s current account deficit declines sharp...</td>\n",
       "      <td>The current account deficit (CAD) was 3.8 per ...</td>\n",
       "      <td>India’s current account deficit declined sharp...</td>\n",
       "      <td>https://indianexpress.com/article/business/eco...</td>\n",
       "      <td>business</td>\n",
       "    </tr>\n",
       "    <tr>\n",
       "      <th>4</th>\n",
       "      <td>States borrowing cost soars to 7.68%, highest ...</td>\n",
       "      <td>The prices shot up reflecting the overall high...</td>\n",
       "      <td>States have been forced to pay through their n...</td>\n",
       "      <td>https://indianexpress.com/article/business/eco...</td>\n",
       "      <td>business</td>\n",
       "    </tr>\n",
       "  </tbody>\n",
       "</table>\n",
       "</div>"
      ],
      "text/plain": [
       "                                           headlines  \\\n",
       "0  RBI revises definition of politically-exposed ...   \n",
       "1  NDTV Q2 net profit falls 57.4% to Rs 5.55 cror...   \n",
       "2  Akasa Air ‘well capitalised’, can grow much fa...   \n",
       "3  India’s current account deficit declines sharp...   \n",
       "4  States borrowing cost soars to 7.68%, highest ...   \n",
       "\n",
       "                                         description  \\\n",
       "0  The central bank has also asked chairpersons a...   \n",
       "1  NDTV's consolidated revenue from operations wa...   \n",
       "2  The initial share sale will be open for public...   \n",
       "3  The current account deficit (CAD) was 3.8 per ...   \n",
       "4  The prices shot up reflecting the overall high...   \n",
       "\n",
       "                                             content  \\\n",
       "0  The Reserve Bank of India (RBI) has changed th...   \n",
       "1  Broadcaster New Delhi Television Ltd on Monday...   \n",
       "2  Homegrown server maker Netweb Technologies Ind...   \n",
       "3  India’s current account deficit declined sharp...   \n",
       "4  States have been forced to pay through their n...   \n",
       "\n",
       "                                                 url  category  \n",
       "0  https://indianexpress.com/article/business/ban...  business  \n",
       "1  https://indianexpress.com/article/business/com...  business  \n",
       "2  https://indianexpress.com/article/business/mar...  business  \n",
       "3  https://indianexpress.com/article/business/eco...  business  \n",
       "4  https://indianexpress.com/article/business/eco...  business  "
      ]
     },
     "execution_count": 7,
     "metadata": {},
     "output_type": "execute_result"
    }
   ],
   "source": [
    "# Read the train dataset\n",
    "train = pd.read_csv('https://raw.githubusercontent.com/Jana-Liebenberg/2401PTDS_Classification_Project/refs/heads/main/Data/processed/train.csv')\n",
    "train.head()"
   ]
  },
  {
   "cell_type": "code",
   "execution_count": 15,
   "id": "a79ee548",
   "metadata": {},
   "outputs": [
    {
     "name": "stdout",
     "output_type": "stream",
     "text": [
      "<class 'pandas.core.frame.DataFrame'>\n",
      "RangeIndex: 5520 entries, 0 to 5519\n",
      "Data columns (total 5 columns):\n",
      " #   Column       Non-Null Count  Dtype \n",
      "---  ------       --------------  ----- \n",
      " 0   headlines    5520 non-null   object\n",
      " 1   description  5520 non-null   object\n",
      " 2   content      5520 non-null   object\n",
      " 3   url          5520 non-null   object\n",
      " 4   category     5520 non-null   object\n",
      "dtypes: object(5)\n",
      "memory usage: 215.8+ KB\n",
      "<class 'pandas.core.frame.DataFrame'>\n",
      "RangeIndex: 2000 entries, 0 to 1999\n",
      "Data columns (total 5 columns):\n",
      " #   Column       Non-Null Count  Dtype \n",
      "---  ------       --------------  ----- \n",
      " 0   headlines    2000 non-null   object\n",
      " 1   description  2000 non-null   object\n",
      " 2   content      2000 non-null   object\n",
      " 3   url          2000 non-null   object\n",
      " 4   category     2000 non-null   object\n",
      "dtypes: object(5)\n",
      "memory usage: 78.3+ KB\n",
      "Dropping URL column...\n",
      "                                           headlines  \\\n",
      "0  RBI revises definition of politically-exposed ...   \n",
      "1  NDTV Q2 net profit falls 57.4% to Rs 5.55 cror...   \n",
      "2  Akasa Air ‘well capitalised’, can grow much fa...   \n",
      "3  India’s current account deficit declines sharp...   \n",
      "4  States borrowing cost soars to 7.68%, highest ...   \n",
      "\n",
      "                                         description  \\\n",
      "0  The central bank has also asked chairpersons a...   \n",
      "1  NDTV's consolidated revenue from operations wa...   \n",
      "2  The initial share sale will be open for public...   \n",
      "3  The current account deficit (CAD) was 3.8 per ...   \n",
      "4  The prices shot up reflecting the overall high...   \n",
      "\n",
      "                                             content  category  \n",
      "0  The Reserve Bank of India (RBI) has changed th...  business  \n",
      "1  Broadcaster New Delhi Television Ltd on Monday...  business  \n",
      "2  Homegrown server maker Netweb Technologies Ind...  business  \n",
      "3  India’s current account deficit declined sharp...  business  \n",
      "4  States have been forced to pay through their n...  business  \n",
      "                                           headlines  \\\n",
      "0  NLC India wins contract for power supply to Ra...   \n",
      "1  SBI Clerk prelims exams dates announced; admit...   \n",
      "2  Golden Globes: Michelle Yeoh, Will Ferrell, An...   \n",
      "3  OnePlus Nord 3 at Rs 27,999 as part of new pri...   \n",
      "4  Adani family’s partners used ‘opaque’ funds to...   \n",
      "\n",
      "                                         description  \\\n",
      "0  State-owned firm NLC India Ltd (NLCIL) on Mond...   \n",
      "1  SBI Clerk Prelims Exam: The SBI Clerk prelims ...   \n",
      "2  Barbie is the top nominee this year, followed ...   \n",
      "3  New deal makes the OnePlus Nord 3 an easy purc...   \n",
      "4  Citing review of files from multiple tax haven...   \n",
      "\n",
      "                                             content       category  \n",
      "0  State-owned firm NLC India Ltd (NLCIL) on Mond...       business  \n",
      "1  SBI Clerk Prelims Exam: The State Bank of Indi...      education  \n",
      "2  Michelle Yeoh, Will Ferrell, Angela Bassett an...  entertainment  \n",
      "3  In our review of the OnePlus Nord 3 5G, we pra...     technology  \n",
      "4  Millions of dollars were invested in some publ...       business  \n"
     ]
    }
   ],
   "source": [
    "# Load the datasets\n",
    "train_data = pd.read_csv('https://raw.githubusercontent.com/Jana-Liebenberg/2401PTDS_Classification_Project/refs/heads/main/Data/processed/train.csv')  \n",
    "test_data = pd.read_csv('https://raw.githubusercontent.com/Jana-Liebenberg/2401PTDS_Classification_Project/refs/heads/main/Data/processed/test.csv')    \n",
    "\n",
    "# Displaying basic information and the first few rows of each dataset \n",
    "train_info = train_data.info()\n",
    "train_head = train_data.head()\n",
    "test_info = test_data.info()\n",
    "test_head = train_data.head()\n",
    "\n",
    "train_info, train_head, test_info, test_head\n",
    "\n",
    "# Drop the 'url' column\n",
    "print('Dropping URL column...')\n",
    "train_data.drop(columns=['url'], inplace=True, errors='ignore')\n",
    "test_data.drop(columns=['url'], inplace=True, errors='ignore')\n",
    "\n",
    "# Display the first few rows to verify\n",
    "print(train_data.head())\n",
    "print(test_data.head())\n"
   ]
  },
  {
   "cell_type": "code",
   "execution_count": 28,
   "id": "295255bf",
   "metadata": {},
   "outputs": [],
   "source": [
    "# Combine text columns for training set\n",
    "train_data['combined_text'] = train_data['headlines'] + ' ' + train_data['description'] + ' ' + train_data['content']\n",
    "\n",
    "# Combine text columns for test set\n",
    "test_data['combined_text'] = test_data['headlines'] + ' ' + test_data['description'] + ' ' + test_data['content']"
   ]
  },
  {
   "cell_type": "code",
   "execution_count": 29,
   "id": "f81a127c",
   "metadata": {},
   "outputs": [
    {
     "name": "stdout",
     "output_type": "stream",
     "text": [
      "Lowering case...\n",
      "Cleaning punctuation...\n",
      "0       rbi revises definition of politicallyexposed p...\n",
      "1       ndtv q net profit falls  to rs  crore impacted...\n",
      "2       akasa air ‘well capitalised’ can grow much fas...\n",
      "3       india’s current account deficit declines sharp...\n",
      "4       states borrowing cost soars to  highest so far...\n",
      "                              ...                        \n",
      "5515    samsung sends out invites for ‘unpacked ’ new ...\n",
      "5516    google pixel  pro accidentally appears on offi...\n",
      "5517    amazon ad on google search redirects users to ...\n",
      "5518    elon musk’s x previously twitter now worth les...\n",
      "5519    apple’s ios  update released and here’s how it...\n",
      "Name: combined_text, Length: 5520, dtype: object\n",
      "0       nlc india wins contract for power supply to ra...\n",
      "1       sbi clerk prelims exams dates announced; admit...\n",
      "2       golden globes: michelle yeoh, will ferrell, an...\n",
      "3       oneplus nord 3 at rs 27,999 as part of new pri...\n",
      "4       adani family’s partners used ‘opaque’ funds to...\n",
      "                              ...                        \n",
      "1995    sri lankan government renews lanka ioc’s petro...\n",
      "1996    kia launches new seltos with price starting at...\n",
      "1997    rebel moon movie review: zack snyder’s spectac...\n",
      "1998    chatgpt most popular ai tool with 14.6 billion...\n",
      "1999    salaar movie review: prabhas’ violence-riddled...\n",
      "Name: combined_text, Length: 2000, dtype: object\n"
     ]
    }
   ],
   "source": [
    "# Convert all text in the 'combined_text' column to lowercase\n",
    "print ('Lowering case...')\n",
    "train_data['combined_text'] = train_data['combined_text'].str.lower()\n",
    "test_data['combined_text'] = test_data['combined_text'].str.lower()\n",
    "\n",
    "# Define a function to remove punctuation and numbers from the 'combined_text' column\n",
    "import string\n",
    "print ('Cleaning punctuation...')\n",
    "def remove_punctuation_numbers(post):\n",
    "    punc_numbers = string.punctuation + '0123456789'\n",
    "    return ''.join([l for l in post if l not in punc_numbers])\n",
    "    \n",
    "# Apply the remove_punctuation_numbers function to the 'post' column\n",
    "train_data['combined_text'] = train_data['combined_text'].apply(remove_punctuation_numbers)\n",
    "test_articles['combined_text'] = test_articles['combined_text'].apply(remove_punctuation_numbers)\n",
    "\n",
    "print(train_data['combined_text'])\n",
    "print(test_data['combined_text'])"
   ]
  },
  {
   "cell_type": "code",
   "execution_count": 32,
   "id": "8d01119f",
   "metadata": {},
   "outputs": [],
   "source": [
    "#This code uses `CountVectorizer` to convert the text data from the training and test sets into a matrix of token counts, while removing English stop words.\n",
    "\n",
    "# Initialize CountVectorizer\n",
    "vect = CountVectorizer(stop_words='english')\n",
    "\n",
    "# training set\n",
    "X_train = vect.fit_transform(train_data['combined_text'])\n",
    "\n",
    "# only transform the test set\n",
    "X_test = vect.transform(test_data['combined_text'])"
   ]
  },
  {
   "cell_type": "code",
   "execution_count": 34,
   "id": "b259ed7e",
   "metadata": {},
   "outputs": [],
   "source": [
    "#categorise y \n",
    "\n",
    "# Initialize LabelEncoder\n",
    "from sklearn.calibration import LabelEncoder\n",
    "\n",
    "\n",
    "le = LabelEncoder()\n",
    "\n",
    "# training \n",
    "y_train = le.fit_transform(train_data['category'])\n",
    "\n",
    "# only transform the test set\n",
    "y_test = le.transform(test_data['category'])"
   ]
  },
  {
   "cell_type": "code",
   "execution_count": 38,
   "id": "35cda697",
   "metadata": {},
   "outputs": [
    {
     "ename": "KeyError",
     "evalue": "'Column not found: combined'",
     "output_type": "error",
     "traceback": [
      "\u001b[1;31m---------------------------------------------------------------------------\u001b[0m",
      "\u001b[1;31mKeyError\u001b[0m                                  Traceback (most recent call last)",
      "Cell \u001b[1;32mIn[38], line 10\u001b[0m\n\u001b[0;32m      6\u001b[0m vectorizer \u001b[38;5;241m=\u001b[39m CountVectorizer(stop_words\u001b[38;5;241m=\u001b[39m\u001b[38;5;124m'\u001b[39m\u001b[38;5;124menglish\u001b[39m\u001b[38;5;124m'\u001b[39m, min_df\u001b[38;5;241m=\u001b[39m \u001b[38;5;241m.1\u001b[39m)\n\u001b[0;32m      9\u001b[0m \u001b[38;5;66;03m# Step 2: Group by class and combine the text\u001b[39;00m\n\u001b[1;32m---> 10\u001b[0m class_grouped \u001b[38;5;241m=\u001b[39m df\u001b[38;5;241m.\u001b[39mgroupby(\u001b[38;5;124m'\u001b[39m\u001b[38;5;124mcategory\u001b[39m\u001b[38;5;124m'\u001b[39m)[\u001b[38;5;124m'\u001b[39m\u001b[38;5;124mcombined\u001b[39m\u001b[38;5;124m'\u001b[39m]\u001b[38;5;241m.\u001b[39mapply(\u001b[38;5;124m'\u001b[39m\u001b[38;5;124m \u001b[39m\u001b[38;5;124m'\u001b[39m\u001b[38;5;241m.\u001b[39mjoin)\u001b[38;5;241m.\u001b[39mreset_index()\n\u001b[0;32m     12\u001b[0m classes \u001b[38;5;241m=\u001b[39m \u001b[38;5;28mlist\u001b[39m(class_grouped[\u001b[38;5;124m'\u001b[39m\u001b[38;5;124mcategory\u001b[39m\u001b[38;5;124m'\u001b[39m])\n\u001b[0;32m     13\u001b[0m \u001b[38;5;66;03m# Step 3: Get word counts for each class\u001b[39;00m\n",
      "File \u001b[1;32mc:\\Users\\F8871487\\AppData\\Local\\anaconda3\\envs\\Farm\\Lib\\site-packages\\pandas\\core\\groupby\\generic.py:1951\u001b[0m, in \u001b[0;36mDataFrameGroupBy.__getitem__\u001b[1;34m(self, key)\u001b[0m\n\u001b[0;32m   1944\u001b[0m \u001b[38;5;28;01mif\u001b[39;00m \u001b[38;5;28misinstance\u001b[39m(key, \u001b[38;5;28mtuple\u001b[39m) \u001b[38;5;129;01mand\u001b[39;00m \u001b[38;5;28mlen\u001b[39m(key) \u001b[38;5;241m>\u001b[39m \u001b[38;5;241m1\u001b[39m:\n\u001b[0;32m   1945\u001b[0m     \u001b[38;5;66;03m# if len == 1, then it becomes a SeriesGroupBy and this is actually\u001b[39;00m\n\u001b[0;32m   1946\u001b[0m     \u001b[38;5;66;03m# valid syntax, so don't raise\u001b[39;00m\n\u001b[0;32m   1947\u001b[0m     \u001b[38;5;28;01mraise\u001b[39;00m \u001b[38;5;167;01mValueError\u001b[39;00m(\n\u001b[0;32m   1948\u001b[0m         \u001b[38;5;124m\"\u001b[39m\u001b[38;5;124mCannot subset columns with a tuple with more than one element. \u001b[39m\u001b[38;5;124m\"\u001b[39m\n\u001b[0;32m   1949\u001b[0m         \u001b[38;5;124m\"\u001b[39m\u001b[38;5;124mUse a list instead.\u001b[39m\u001b[38;5;124m\"\u001b[39m\n\u001b[0;32m   1950\u001b[0m     )\n\u001b[1;32m-> 1951\u001b[0m \u001b[38;5;28;01mreturn\u001b[39;00m \u001b[38;5;28msuper\u001b[39m()\u001b[38;5;241m.\u001b[39m\u001b[38;5;21m__getitem__\u001b[39m(key)\n",
      "File \u001b[1;32mc:\\Users\\F8871487\\AppData\\Local\\anaconda3\\envs\\Farm\\Lib\\site-packages\\pandas\\core\\base.py:244\u001b[0m, in \u001b[0;36mSelectionMixin.__getitem__\u001b[1;34m(self, key)\u001b[0m\n\u001b[0;32m    242\u001b[0m \u001b[38;5;28;01melse\u001b[39;00m:\n\u001b[0;32m    243\u001b[0m     \u001b[38;5;28;01mif\u001b[39;00m key \u001b[38;5;129;01mnot\u001b[39;00m \u001b[38;5;129;01min\u001b[39;00m \u001b[38;5;28mself\u001b[39m\u001b[38;5;241m.\u001b[39mobj:\n\u001b[1;32m--> 244\u001b[0m         \u001b[38;5;28;01mraise\u001b[39;00m \u001b[38;5;167;01mKeyError\u001b[39;00m(\u001b[38;5;124mf\u001b[39m\u001b[38;5;124m\"\u001b[39m\u001b[38;5;124mColumn not found: \u001b[39m\u001b[38;5;132;01m{\u001b[39;00mkey\u001b[38;5;132;01m}\u001b[39;00m\u001b[38;5;124m\"\u001b[39m)\n\u001b[0;32m    245\u001b[0m     ndim \u001b[38;5;241m=\u001b[39m \u001b[38;5;28mself\u001b[39m\u001b[38;5;241m.\u001b[39mobj[key]\u001b[38;5;241m.\u001b[39mndim\n\u001b[0;32m    246\u001b[0m     \u001b[38;5;28;01mreturn\u001b[39;00m \u001b[38;5;28mself\u001b[39m\u001b[38;5;241m.\u001b[39m_gotitem(key, ndim\u001b[38;5;241m=\u001b[39mndim)\n",
      "\u001b[1;31mKeyError\u001b[0m: 'Column not found: combined'"
     ]
    }
   ],
   "source": [
    "import pandas as pd\n",
    "from sklearn.feature_extraction.text import CountVectorizer\n",
    "\n",
    "\n",
    "# Step 1: Initialize the CountVectorize\n",
    "vectorizer = CountVectorizer(stop_words='english', min_df= .1)\n",
    "\n",
    "\n",
    "# Step 2: Group by class and combine the text\n",
    "class_grouped = df.groupby('category')['combined'].apply(' '.join).reset_index()\n",
    "\n",
    "classes = list(class_grouped['category'])\n",
    "# Step 3: Get word counts for each class\n",
    "word_counts = {}\n",
    "\n",
    "for index, row in class_grouped.iterrows():\n",
    "    # Transform the combined text into word counts\n",
    "    counts = vectorizer.fit_transform([row['combined']])\n",
    "    counts_array = counts.toarray()[0]  # Convert to array and take the first (and only) row\n",
    "    words = vectorizer.get_feature_names_out()  # Get the words\n",
    "    word_count_dict = dict(zip(words, counts_array))  # Combine words and counts\n",
    "\n",
    "    # Step 4: Get the 10 most common words\n",
    "    most_common = sorted(word_count_dict.items(), key=lambda x: x[1], reverse=True)[:20]\n",
    "    word_counts[row['category']] = most_common\n",
    "\n",
    "plt.rcParams['figure.figsize'] = (20,5)\n",
    "fig, ax = plt.subplots(nrows=1, ncols=5)\n",
    "\n",
    "colours = ['steelblue','teal', '#FFBF00', 'darkgreen', 'gray']\n",
    "# Print the most common words for each class\n",
    "\n",
    "index = 0\n",
    "\n",
    "for class_name, common_words in word_counts.items():\n",
    "    w = []\n",
    "    c = []\n",
    "    for word, count in common_words:\n",
    "        w.append(word)\n",
    "        c.append(count)\n",
    "        ax[index].set_title(f'{class_name}')\n",
    "        \n",
    "    c.reverse()\n",
    "    w.reverse()\n",
    "    max_value = max(c)\n",
    "    alphas = [value / max_value for value in c]\n",
    "\n",
    "    bars = ax[index].barh(w, c, color= colours[index])\n",
    "    index += 1\n",
    "    # Apply transparency\n",
    "    for bar, alpha in zip(bars, alphas):\n",
    "        bar.set_alpha(alpha)\n",
    "fig.tight_layout()\n",
    "plt.show()"
   ]
  },
  {
   "cell_type": "code",
   "execution_count": 20,
   "id": "cd85c5a2",
   "metadata": {},
   "outputs": [],
   "source": [
    "train_data['type'] = 'train'\n",
    "test_data['type'] = 'test'\n",
    "df = pd.concat([train_data, test_data])"
   ]
  },
  {
   "cell_type": "code",
   "execution_count": 26,
   "id": "6a3c9472",
   "metadata": {},
   "outputs": [
    {
     "data": {
      "image/png": "[encoded data removed]",
      "text/plain": [
       "<Figure size 640x480 with 1 Axes>"
      ]
     },
     "metadata": {},
     "output_type": "display_data"
    }
   ],
   "source": [
    "grouped = df.groupby(['category']).count().reset_index().sort_values(by = 'headlines', ascending = False)\n",
    "plt.bar(grouped.category, grouped.headlines, color = ['red', 'purple', 'green', '#FFBF00', 'pink'])\n",
    "plt.show()"
   ]
  },
  {
   "cell_type": "code",
   "execution_count": 8,
   "id": "9709f030-186a-46d1-bc6e-2418ed859c64",
   "metadata": {},
   "outputs": [
    {
     "ename": "NameError",
     "evalue": "name 'df' is not defined",
     "output_type": "error",
     "traceback": [
      "\u001b[1;31m---------------------------------------------------------------------------\u001b[0m",
      "\u001b[1;31mNameError\u001b[0m                                 Traceback (most recent call last)",
      "Cell \u001b[1;32mIn[8], line 3\u001b[0m\n\u001b[0;32m      1\u001b[0m \u001b[38;5;66;03m# loading dataset\u001b[39;00m\n\u001b[1;32m----> 3\u001b[0m df\u001b[38;5;241m.\u001b[39mhead(\u001b[38;5;241m2\u001b[39m)\n",
      "\u001b[1;31mNameError\u001b[0m: name 'df' is not defined"
     ]
    }
   ],
   "source": [
    "# loading dataset\n",
    "\n",
    "df.head(2) "
   ]
  },
  {
   "cell_type": "code",
   "execution_count": null,
   "id": "2e5b3e72-8d32-4e8d-9e2a-0abbb542bae6",
   "metadata": {},
   "outputs": [],
   "source": [
    "# displays unlimited number of columns\n",
    "pd.set_option(\"display.max_columns\", None)"
   ]
  },
  {
   "cell_type": "code",
   "execution_count": null,
   "id": "759cd69e-3a6a-4f3c-ae02-4f7ed1af36a4",
   "metadata": {},
   "outputs": [],
   "source": [
    "# The copy of the dataframe\n",
    "df_copy = df.copy()"
   ]
  },
  {
   "cell_type": "code",
   "execution_count": null,
   "id": "454fba91-e9f8-43fd-b367-874f82524bae",
   "metadata": {},
   "outputs": [],
   "source": [
    "# Displays the number of rows and columns\n",
    "df_copy.shape"
   ]
  },
  {
   "cell_type": "code",
   "execution_count": null,
   "id": "a88551c5-401b-49a4-927b-b8e86c969480",
   "metadata": {},
   "outputs": [],
   "source": []
  }
 ],
 "metadata": {
  "kernelspec": {
   "display_name": "Farm",
   "language": "python",
   "name": "python3"
  },
  "language_info": {
   "codemirror_mode": {
    "name": "ipython",
    "version": 3
   },
   "file_extension": ".py",
   "mimetype": "text/x-python",
   "name": "python",
   "nbconvert_exporter": "python",
   "pygments_lexer": "ipython3",
   "version": "3.11.9"
  }
 },
 "nbformat": 4,
 "nbformat_minor": 5
}
