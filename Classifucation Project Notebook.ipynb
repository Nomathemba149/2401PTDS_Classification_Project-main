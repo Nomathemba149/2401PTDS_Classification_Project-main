{
 "cells": [
  {
   "cell_type": "markdown",
   "id": "62931500-a186-4d86-86ea-a794e0e456ab",
   "metadata": {},
   "source": [
    "#### Explore AI Academy: Classification Project\n"
   ]
  },
  {
   "cell_type": "markdown",
   "id": "1c56028e-c11c-430d-aedd-8555f53f89ab",
   "metadata": {},
   "source": [
    "<div style=\"font-size: 35px\">\n",
    "    <font color='Blue'> <b>Analysing News Articles Dataset</b></font> "
   ]
  },
  {
   "cell_type": "markdown",
   "id": "6e58119b-69e6-4b95-9857-2dc6efc887a1",
   "metadata": {},
   "source": [
    "<a id=\"cont\"></a>\n",
    "\n",
    "## Table of Contents\n",
    "1. Project Overview\n",
    "     1.1 Introduction\n",
    "        1.1.1 Problem Statement\n",
    "     1.2 Objectives\n",
    "2. Importing Packages\n",
    "3. Loading Data\n",
    "4. Data Cleaning\n",
    "5. Exploratory Data Analysis (EDA)\n",
    "6. Feature Engineering\n",
    "7. Modeling\n",
    "8. Model Performance\n",
    "10.Final Deployment"
   ]
  },
  {
   "cell_type": "markdown",
   "id": "d3eb57f2-d0f4-4e0d-a252-0c00f4ca0853",
   "metadata": {},
   "source": [
    "> <b> Objective of the Project:</b> To create classification models using Python and deploy it as a web application with Streamlit. The aim is to provide you with a hands-on demonstration of applying machine learning techniques to natural language processing tasks. The primary stakeholders for the news classification project for the news outlet could include the editorial team, IT/tech support, management, readers, etc. These groups are interested in improved content categorization, operational efficiency, and enhanced user experience.\n",
    "\n",
    "> <b> Data Source:</b> To create classification models using Python and deploy it as a web application with Streamlit. The aim is to provide you with a hands-on demonstration of applying machine learning techniques to natural language processing tasks.\n",
    "\n",
    "> <b> Importance of the Study:</b> The dataset is comprised of news articles that need to be classified into categories based on their content, including Business, Technology, Sports, Education, and Entertainment. You can find both the train.csv and test.csv datasets here: https://raw.githubusercontent.com/Jana-Liebenberg/2401PTDS_Classification_Project/refs/heads/main/Data/processed/train.csv\n",
    "\n",
    "> <b> Methodology Overview:</b> This end-to-end project encompasses the entire workflow, including data loading, preprocessing, model training, evaluation, and final deployment.\n",
    "\n",
    "> <b> Structure of the Notebook:</b> The notebook will be structured with the following headings data loading, preprocessing, model training, evaluation, and final deployment.\n"
   ]
  },
  {
   "cell_type": "markdown",
   "id": "3c171a17",
   "metadata": {},
   "source": [
    "## Project Links\n",
    "\n",
    "- Trello Board Link:\n",
    "- Presentation Deck:\n",
    "- Streamlit Link:"
   ]
  },
  {
   "cell_type": "markdown",
   "id": "0b5cab88-5f94-46e0-8d92-1513bb4861f9",
   "metadata": {},
   "source": [
    "- #### 1.1.1 Problem Statement <a class=\"anchor\" id=\"sub_section_1_1_1\"></a>\n",
    "\n",
    " Build news classification model using deep learning teechniques and deploy model for reporters to classify and label news articles."
   ]
  },
  {
   "cell_type": "markdown",
   "id": "ad031c54-8a0c-4618-8e25-a53368ebdb7e",
   "metadata": {},
   "source": [
    "### 1.2 Objectives <a class=\"anchor\" id=\"section_1_2\"></a>"
   ]
  },
  {
   "cell_type": "markdown",
   "id": "a3d57348-7a65-4ba6-9f38-0cc302cd818a",
   "metadata": {},
   "source": [
    "+ To apply exploratory data analysis.\n",
    "+ To implement feature engineering techniques to extract meaningful information.\n",
    "+ To model and assess various supervised machine learning algorithms for the prediction\n",
    "\n"
   ]
  },
  {
   "cell_type": "markdown",
   "id": "eebf1419-48bd-45e9-8f6d-a2b7c0ab8273",
   "metadata": {},
   "source": [
    "## 2. Importing Packages <a class=\"anchor\" id=\"chapter2\"></a>\n",
    "\n",
    "This data set was created to list all shows available on Netflix streaming, and analyze the data to find interesting facts. This data was acquired in July 2022 containing data available in the United States.\n",
    "\n",
    "+ For data manipulation and analysis, `Pandas` and `Numpy`.\n",
    "+ For data visualization, `Matplotlib` and `Seaborn`.\n",
    "\n",
    "Three techniques to vectorize the text data:\n",
    "\n",
    "+ Segment text into words, and convert word into a vector\n",
    "+ Segment text into charactors, and transform each chractors into a vector.\n",
    "+ Extract n-grams of words, and transform each n-grams into a vector."
   ]
  },
  {
   "cell_type": "code",
   "execution_count": 4,
   "id": "28b1eef2-75f9-46dc-b5ea-84b81aeed71e",
   "metadata": {},
   "outputs": [
    {
     "data": {
      "text/plain": [
       "<function warnings.filterwarnings(action, message='', category=<class 'Warning'>, module='', lineno=0, append=False)>"
      ]
     },
     "execution_count": 4,
     "metadata": {},
     "output_type": "execute_result"
    }
   ],
   "source": [
    "# Libraries for data loading, manipulation and analysis\n",
    "\n",
    "import numpy as np\n",
    "import pandas as pd\n",
    "import csv\n",
    "import seaborn as sns\n",
    "import matplotlib.pyplot as plt\n",
    "\n",
    "# Displays output inline\n",
    "%matplotlib inline\n",
    "\n",
    "from sklearn.feature_extraction.text import CountVectorizer\n",
    "\n",
    "from sklearn.model_selection import cross_val_score\n",
    "from sklearn.model_selection import train_test_split\n",
    "from sklearn import metrics\n",
    "\n",
    "from sklearn.preprocessing import StandardScaler\n",
    "from sklearn.datasets import make_moons, make_circles, make_classification\n",
    "\n",
    "from sklearn.linear_model import LogisticRegression\n",
    "from sklearn.neighbors import KNeighborsClassifier\n",
    "from sklearn.svm import SVC\n",
    "from sklearn.discriminant_analysis import LinearDiscriminantAnalysis\n",
    "from sklearn.discriminant_analysis import QuadraticDiscriminantAnalysis\n",
    "from sklearn.tree import DecisionTreeClassifier\n",
    "from sklearn.ensemble import RandomForestClassifier, AdaBoostClassifier\n",
    "\n",
    "#NLP\n",
    "import nltk\n",
    "from nltk.corpus import stopwords\n",
    "from nltk.tokenize import word_tokenize, TreebankWordTokenizer\n",
    "\n",
    "from sklearn.feature_extraction.text import CountVectorizer\n",
    "\n",
    "from sklearn.model_selection import cross_validate\n",
    "\n",
    "from sklearn.feature_selection import chi2\n",
    "\n",
    "# set plot style\n",
    "sns.set_theme()\n",
    "\n",
    "# Libraries for Handing Errors\n",
    "import warnings\n",
    "warnings.filterwarnings"
   ]
  },
  {
   "cell_type": "code",
   "execution_count": 5,
   "id": "f882227c",
   "metadata": {},
   "outputs": [],
   "source": [
    "import requests\n",
    "import joblib "
   ]
  },
  {
   "cell_type": "markdown",
   "id": "e0d662c9",
   "metadata": {},
   "source": [
    "## Environment"
   ]
  },
  {
   "cell_type": "markdown",
   "id": "462b1af8-550d-4a7a-b239-4ceb8ac4e695",
   "metadata": {},
   "source": [
    "## 3. Loading Data <a class=\"anchor\" id=\"chapter3\"></a>"
   ]
  },
  {
   "cell_type": "code",
   "execution_count": 6,
   "id": "2b5e0b9e",
   "metadata": {},
   "outputs": [
    {
     "data": {
      "text/html": [
       "<div>\n",
       "<style scoped>\n",
       "    .dataframe tbody tr th:only-of-type {\n",
       "        vertical-align: middle;\n",
       "    }\n",
       "\n",
       "    .dataframe tbody tr th {\n",
       "        vertical-align: top;\n",
       "    }\n",
       "\n",
       "    .dataframe thead th {\n",
       "        text-align: right;\n",
       "    }\n",
       "</style>\n",
       "<table border=\"1\" class=\"dataframe\">\n",
       "  <thead>\n",
       "    <tr style=\"text-align: right;\">\n",
       "      <th></th>\n",
       "      <th>headlines</th>\n",
       "      <th>description</th>\n",
       "      <th>content</th>\n",
       "      <th>url</th>\n",
       "      <th>category</th>\n",
       "    </tr>\n",
       "  </thead>\n",
       "  <tbody>\n",
       "    <tr>\n",
       "      <th>0</th>\n",
       "      <td>RBI revises definition of politically-exposed ...</td>\n",
       "      <td>The central bank has also asked chairpersons a...</td>\n",
       "      <td>The Reserve Bank of India (RBI) has changed th...</td>\n",
       "      <td>https://indianexpress.com/article/business/ban...</td>\n",
       "      <td>business</td>\n",
       "    </tr>\n",
       "    <tr>\n",
       "      <th>1</th>\n",
       "      <td>NDTV Q2 net profit falls 57.4% to Rs 5.55 cror...</td>\n",
       "      <td>NDTV's consolidated revenue from operations wa...</td>\n",
       "      <td>Broadcaster New Delhi Television Ltd on Monday...</td>\n",
       "      <td>https://indianexpress.com/article/business/com...</td>\n",
       "      <td>business</td>\n",
       "    </tr>\n",
       "    <tr>\n",
       "      <th>2</th>\n",
       "      <td>Akasa Air ‘well capitalised’, can grow much fa...</td>\n",
       "      <td>The initial share sale will be open for public...</td>\n",
       "      <td>Homegrown server maker Netweb Technologies Ind...</td>\n",
       "      <td>https://indianexpress.com/article/business/mar...</td>\n",
       "      <td>business</td>\n",
       "    </tr>\n",
       "    <tr>\n",
       "      <th>3</th>\n",
       "      <td>India’s current account deficit declines sharp...</td>\n",
       "      <td>The current account deficit (CAD) was 3.8 per ...</td>\n",
       "      <td>India’s current account deficit declined sharp...</td>\n",
       "      <td>https://indianexpress.com/article/business/eco...</td>\n",
       "      <td>business</td>\n",
       "    </tr>\n",
       "    <tr>\n",
       "      <th>4</th>\n",
       "      <td>States borrowing cost soars to 7.68%, highest ...</td>\n",
       "      <td>The prices shot up reflecting the overall high...</td>\n",
       "      <td>States have been forced to pay through their n...</td>\n",
       "      <td>https://indianexpress.com/article/business/eco...</td>\n",
       "      <td>business</td>\n",
       "    </tr>\n",
       "  </tbody>\n",
       "</table>\n",
       "</div>"
      ],
      "text/plain": [
       "                                           headlines  \\\n",
       "0  RBI revises definition of politically-exposed ...   \n",
       "1  NDTV Q2 net profit falls 57.4% to Rs 5.55 cror...   \n",
       "2  Akasa Air ‘well capitalised’, can grow much fa...   \n",
       "3  India’s current account deficit declines sharp...   \n",
       "4  States borrowing cost soars to 7.68%, highest ...   \n",
       "\n",
       "                                         description  \\\n",
       "0  The central bank has also asked chairpersons a...   \n",
       "1  NDTV's consolidated revenue from operations wa...   \n",
       "2  The initial share sale will be open for public...   \n",
       "3  The current account deficit (CAD) was 3.8 per ...   \n",
       "4  The prices shot up reflecting the overall high...   \n",
       "\n",
       "                                             content  \\\n",
       "0  The Reserve Bank of India (RBI) has changed th...   \n",
       "1  Broadcaster New Delhi Television Ltd on Monday...   \n",
       "2  Homegrown server maker Netweb Technologies Ind...   \n",
       "3  India’s current account deficit declined sharp...   \n",
       "4  States have been forced to pay through their n...   \n",
       "\n",
       "                                                 url  category  \n",
       "0  https://indianexpress.com/article/business/ban...  business  \n",
       "1  https://indianexpress.com/article/business/com...  business  \n",
       "2  https://indianexpress.com/article/business/mar...  business  \n",
       "3  https://indianexpress.com/article/business/eco...  business  \n",
       "4  https://indianexpress.com/article/business/eco...  business  "
      ]
     },
     "execution_count": 6,
     "metadata": {},
     "output_type": "execute_result"
    }
   ],
   "source": [
    "# Read the train dataset\n",
    "train = pd.read_csv('https://raw.githubusercontent.com/Jana-Liebenberg/2401PTDS_Classification_Project/refs/heads/main/Data/processed/train.csv')\n",
    "train.head()"
   ]
  },
  {
   "cell_type": "code",
   "execution_count": 7,
   "id": "a79ee548",
   "metadata": {},
   "outputs": [
    {
     "name": "stdout",
     "output_type": "stream",
     "text": [
      "<class 'pandas.core.frame.DataFrame'>\n",
      "RangeIndex: 5520 entries, 0 to 5519\n",
      "Data columns (total 5 columns):\n",
      " #   Column       Non-Null Count  Dtype \n",
      "---  ------       --------------  ----- \n",
      " 0   headlines    5520 non-null   object\n",
      " 1   description  5520 non-null   object\n",
      " 2   content      5520 non-null   object\n",
      " 3   url          5520 non-null   object\n",
      " 4   category     5520 non-null   object\n",
      "dtypes: object(5)\n",
      "memory usage: 215.8+ KB\n",
      "<class 'pandas.core.frame.DataFrame'>\n",
      "RangeIndex: 2000 entries, 0 to 1999\n",
      "Data columns (total 5 columns):\n",
      " #   Column       Non-Null Count  Dtype \n",
      "---  ------       --------------  ----- \n",
      " 0   headlines    2000 non-null   object\n",
      " 1   description  2000 non-null   object\n",
      " 2   content      2000 non-null   object\n",
      " 3   url          2000 non-null   object\n",
      " 4   category     2000 non-null   object\n",
      "dtypes: object(5)\n",
      "memory usage: 78.3+ KB\n",
      "Dropping URL column...\n",
      "                                           headlines  \\\n",
      "0  RBI revises definition of politically-exposed ...   \n",
      "1  NDTV Q2 net profit falls 57.4% to Rs 5.55 cror...   \n",
      "2  Akasa Air ‘well capitalised’, can grow much fa...   \n",
      "3  India’s current account deficit declines sharp...   \n",
      "4  States borrowing cost soars to 7.68%, highest ...   \n",
      "\n",
      "                                         description  \\\n",
      "0  The central bank has also asked chairpersons a...   \n",
      "1  NDTV's consolidated revenue from operations wa...   \n",
      "2  The initial share sale will be open for public...   \n",
      "3  The current account deficit (CAD) was 3.8 per ...   \n",
      "4  The prices shot up reflecting the overall high...   \n",
      "\n",
      "                                             content  category  \n",
      "0  The Reserve Bank of India (RBI) has changed th...  business  \n",
      "1  Broadcaster New Delhi Television Ltd on Monday...  business  \n",
      "2  Homegrown server maker Netweb Technologies Ind...  business  \n",
      "3  India’s current account deficit declined sharp...  business  \n",
      "4  States have been forced to pay through their n...  business  \n",
      "                                           headlines  \\\n",
      "0  NLC India wins contract for power supply to Ra...   \n",
      "1  SBI Clerk prelims exams dates announced; admit...   \n",
      "2  Golden Globes: Michelle Yeoh, Will Ferrell, An...   \n",
      "3  OnePlus Nord 3 at Rs 27,999 as part of new pri...   \n",
      "4  Adani family’s partners used ‘opaque’ funds to...   \n",
      "\n",
      "                                         description  \\\n",
      "0  State-owned firm NLC India Ltd (NLCIL) on Mond...   \n",
      "1  SBI Clerk Prelims Exam: The SBI Clerk prelims ...   \n",
      "2  Barbie is the top nominee this year, followed ...   \n",
      "3  New deal makes the OnePlus Nord 3 an easy purc...   \n",
      "4  Citing review of files from multiple tax haven...   \n",
      "\n",
      "                                             content       category  \n",
      "0  State-owned firm NLC India Ltd (NLCIL) on Mond...       business  \n",
      "1  SBI Clerk Prelims Exam: The State Bank of Indi...      education  \n",
      "2  Michelle Yeoh, Will Ferrell, Angela Bassett an...  entertainment  \n",
      "3  In our review of the OnePlus Nord 3 5G, we pra...     technology  \n",
      "4  Millions of dollars were invested in some publ...       business  \n"
     ]
    }
   ],
   "source": [
    "# Load the datasets\n",
    "train_data = pd.read_csv('https://raw.githubusercontent.com/Jana-Liebenberg/2401PTDS_Classification_Project/refs/heads/main/Data/processed/train.csv')  \n",
    "test_data = pd.read_csv('https://raw.githubusercontent.com/Jana-Liebenberg/2401PTDS_Classification_Project/refs/heads/main/Data/processed/test.csv')    \n",
    "\n",
    "# Displaying basic information and the first few rows of each dataset \n",
    "train_info = train_data.info()\n",
    "train_head = train_data.head()\n",
    "test_info = test_data.info()\n",
    "test_head = train_data.head()\n",
    "\n",
    "train_info, train_head, test_info, test_head\n",
    "\n",
    "# Drop the 'url' column\n",
    "print('Dropping URL column...')\n",
    "train_data.drop(columns=['url'], inplace=True, errors='ignore')\n",
    "test_data.drop(columns=['url'], inplace=True, errors='ignore')\n",
    "\n",
    "# Display the first few rows to verify\n",
    "print(train_data.head())\n",
    "print(test_data.head())\n"
   ]
  },
  {
   "cell_type": "code",
   "execution_count": 11,
   "id": "cd85c5a2",
   "metadata": {},
   "outputs": [],
   "source": [
    "train_data['type'] = 'train'\n",
    "test_data['type'] = 'test'\n",
    "df = pd.concat([train_data, test_data])"
   ]
  },
  {
   "cell_type": "code",
   "execution_count": 12,
   "id": "6a3c9472",
   "metadata": {},
   "outputs": [
    {
     "data": {
      "image/png": "[encoded data removed]",
      "text/plain": [
       "<Figure size 640x480 with 1 Axes>"
      ]
     },
     "metadata": {},
     "output_type": "display_data"
    }
   ],
   "source": [
    "grouped = df.groupby(['category']).count().reset_index().sort_values(by = 'headlines', ascending = False)\n",
    "plt.bar(grouped.category, grouped.headlines, color = ['red', 'purple', 'green', '#FFBF00', 'pink'])\n",
    "plt.show()"
   ]
  },
  {
   "cell_type": "code",
   "execution_count": 13,
   "id": "2e5b3e72-8d32-4e8d-9e2a-0abbb542bae6",
   "metadata": {},
   "outputs": [],
   "source": [
    "# displays unlimited number of columns\n",
    "pd.set_option(\"display.max_columns\", None)"
   ]
  },
  {
   "cell_type": "code",
   "execution_count": 14,
   "id": "759cd69e-3a6a-4f3c-ae02-4f7ed1af36a4",
   "metadata": {},
   "outputs": [],
   "source": [
    "# The copy of the dataframe\n",
    "df_copy = df.copy()"
   ]
  },
  {
   "cell_type": "code",
   "execution_count": 15,
   "id": "454fba91-e9f8-43fd-b367-874f82524bae",
   "metadata": {},
   "outputs": [
    {
     "data": {
      "text/plain": [
       "(7520, 6)"
      ]
     },
     "execution_count": 15,
     "metadata": {},
     "output_type": "execute_result"
    }
   ],
   "source": [
    "# Displays the number of rows and columns"
   ]
  },
  {
   "cell_type": "code",
   "execution_count": 18,
   "id": "a88551c5-401b-49a4-927b-b8e86c969480",
   "metadata": {},
   "outputs": [
    {
     "data": {
      "text/html": [
       "<style type=\"text/css\">\n",
       "#T_96422_row0_col0, #T_96422_row0_col1, #T_96422_row0_col2, #T_96422_row0_col3, #T_96422_row0_col4, #T_96422_row0_col5, #T_96422_row1_col0, #T_96422_row1_col1, #T_96422_row1_col2, #T_96422_row1_col3, #T_96422_row1_col4, #T_96422_row1_col5, #T_96422_row2_col0, #T_96422_row2_col1, #T_96422_row2_col2, #T_96422_row2_col3, #T_96422_row2_col4, #T_96422_row2_col5, #T_96422_row3_col0, #T_96422_row3_col1, #T_96422_row3_col2, #T_96422_row3_col3, #T_96422_row3_col4, #T_96422_row3_col5 {\n",
       "  background-color: #F0F0F0;\n",
       "  color: #222222;\n",
       "  border: 1.5px  solid black;\n",
       "}\n",
       "</style>\n",
       "<table id=\"T_96422\">\n",
       "  <thead>\n",
       "    <tr>\n",
       "      <th class=\"blank level0\" >&nbsp;</th>\n",
       "      <th id=\"T_96422_level0_col0\" class=\"col_heading level0 col0\" >headlines</th>\n",
       "      <th id=\"T_96422_level0_col1\" class=\"col_heading level0 col1\" >description</th>\n",
       "      <th id=\"T_96422_level0_col2\" class=\"col_heading level0 col2\" >content</th>\n",
       "      <th id=\"T_96422_level0_col3\" class=\"col_heading level0 col3\" >category</th>\n",
       "      <th id=\"T_96422_level0_col4\" class=\"col_heading level0 col4\" >combined_text</th>\n",
       "      <th id=\"T_96422_level0_col5\" class=\"col_heading level0 col5\" >type</th>\n",
       "    </tr>\n",
       "  </thead>\n",
       "  <tbody>\n",
       "    <tr>\n",
       "      <th id=\"T_96422_level0_row0\" class=\"row_heading level0 row0\" >count</th>\n",
       "      <td id=\"T_96422_row0_col0\" class=\"data row0 col0\" >7520</td>\n",
       "      <td id=\"T_96422_row0_col1\" class=\"data row0 col1\" >7520</td>\n",
       "      <td id=\"T_96422_row0_col2\" class=\"data row0 col2\" >7520</td>\n",
       "      <td id=\"T_96422_row0_col3\" class=\"data row0 col3\" >7520</td>\n",
       "      <td id=\"T_96422_row0_col4\" class=\"data row0 col4\" >7520</td>\n",
       "      <td id=\"T_96422_row0_col5\" class=\"data row0 col5\" >7520</td>\n",
       "    </tr>\n",
       "    <tr>\n",
       "      <th id=\"T_96422_level0_row1\" class=\"row_heading level0 row1\" >unique</th>\n",
       "      <td id=\"T_96422_row1_col0\" class=\"data row1 col0\" >7507</td>\n",
       "      <td id=\"T_96422_row1_col1\" class=\"data row1 col1\" >7502</td>\n",
       "      <td id=\"T_96422_row1_col2\" class=\"data row1 col2\" >7512</td>\n",
       "      <td id=\"T_96422_row1_col3\" class=\"data row1 col3\" >5</td>\n",
       "      <td id=\"T_96422_row1_col4\" class=\"data row1 col4\" >7520</td>\n",
       "      <td id=\"T_96422_row1_col5\" class=\"data row1 col5\" >2</td>\n",
       "    </tr>\n",
       "    <tr>\n",
       "      <th id=\"T_96422_level0_row2\" class=\"row_heading level0 row2\" >top</th>\n",
       "      <td id=\"T_96422_row2_col0\" class=\"data row2 col0\" >IGNOU extends deadline for July 2023 fresh admission, re-registration till August 31</td>\n",
       "      <td id=\"T_96422_row2_col1\" class=\"data row2 col1\" >KCET Results 2023 Date and Time: Candidates who appeared for the exam can check the results at the official website— kea.kar.nic.in.</td>\n",
       "      <td id=\"T_96422_row2_col2\" class=\"data row2 col2\" >Grand Slam fever grips tennis fans all over the world as the 2023 Australian Open kicks off. For the next fortnight, The Indian Express will bring you the biggest storylines of the day, and the best matches to watch at timings suitable for Indian audiences, every morning.</td>\n",
       "      <td id=\"T_96422_row2_col3\" class=\"data row2 col3\" >education</td>\n",
       "      <td id=\"T_96422_row2_col4\" class=\"data row2 col4\" >rbi revises definition of politicallyexposed persons for kyc purpose the central bank has also asked chairpersons and chief executives of banks and other financial services which are into lending business to make the changes effective immediately the reserve bank of india rbi has changed the definition of politicallyexposed persons peps under its norms a move that will make it easier for those individuals to carry out various banking transactions including availing loans\n",
       "certain changes have been made in the rbi’s know your customer kyc norms\n",
       "the earlier norms pertaining to peps were openended and there was a lack of clarity on the definition apparently leading to issues for bankers parliamentarians and others there were also concerns in certain quarters that peps were finding it difficult to get loans or open bank accounts\n",
       "advertisement\n",
       "in the amended kyc master direction the central bank defines peps as “individuals who are or have been entrusted with prominent public functions by a foreign country including the heads of statesgovernments senior politicians senior government or judicial or military officers senior executives of stateowned corporations and important political party officials” the new rules also include a person who is entrusted by a foreign country with a public function\n",
       "bank accounts of peps have additional kyc norms under the current provisions and special due diligence has to be undertaken by a senior bank official a subclause in the master direction in kyc norms issued by way of a circular on february   has been removed by the central bank\n",
       "the central bank has also asked chairpersons and chief executives of banks and other financial services which are into lending business to make the changes effective immediately\n",
       "last year the centre amended the prevention of money laundering act pmla to introduce more disclosures for nongovernment organisations by reporting entities</td>\n",
       "      <td id=\"T_96422_row2_col5\" class=\"data row2 col5\" >train</td>\n",
       "    </tr>\n",
       "    <tr>\n",
       "      <th id=\"T_96422_level0_row3\" class=\"row_heading level0 row3\" >freq</th>\n",
       "      <td id=\"T_96422_row3_col0\" class=\"data row3 col0\" >2</td>\n",
       "      <td id=\"T_96422_row3_col1\" class=\"data row3 col1\" >2</td>\n",
       "      <td id=\"T_96422_row3_col2\" class=\"data row3 col2\" >5</td>\n",
       "      <td id=\"T_96422_row3_col3\" class=\"data row3 col3\" >1920</td>\n",
       "      <td id=\"T_96422_row3_col4\" class=\"data row3 col4\" >1</td>\n",
       "      <td id=\"T_96422_row3_col5\" class=\"data row3 col5\" >5520</td>\n",
       "    </tr>\n",
       "  </tbody>\n",
       "</table>\n"
      ],
      "text/plain": [
       "<pandas.io.formats.style.Styler at 0x1e87b9d1a90>"
      ]
     },
     "execution_count": 18,
     "metadata": {},
     "output_type": "execute_result"
    }
   ],
   "source": [
    "# general descrption of dataset\n",
    "df.describe().style.set_properties(**{'background-color': '#F0F0F0',\n",
    "                                    'color': '#222222',\n",
    "                                    'border': '1.5px  solid black'})"
   ]
  }
 ],
 "metadata": {
  "kernelspec": {
   "display_name": "Farm",
   "language": "python",
   "name": "python3"
  },
  "language_info": {
   "codemirror_mode": {
    "name": "ipython",
    "version": 3
   },
   "file_extension": ".py",
   "mimetype": "text/x-python",
   "name": "python",
   "nbconvert_exporter": "python",
   "pygments_lexer": "ipython3",
   "version": "3.11.9"
  }
 },
 "nbformat": 4,
 "nbformat_minor": 5
}
